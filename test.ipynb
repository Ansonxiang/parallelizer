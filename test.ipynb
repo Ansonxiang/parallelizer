{
 "cells": [
  {
   "cell_type": "code",
   "execution_count": 46,
   "metadata": {},
   "outputs": [
    {
     "name": "stdout",
     "output_type": "stream",
     "text": [
      "{}\n"
     ]
    },
    {
     "ename": "KeyError",
     "evalue": "'data1'",
     "output_type": "error",
     "traceback": [
      "\u001b[1;31m---------------------------------------------------------------------------\u001b[0m",
      "\u001b[1;31mKeyError\u001b[0m                                  Traceback (most recent call last)",
      "Cell \u001b[1;32mIn[46], line 37\u001b[0m\n\u001b[0;32m     35\u001b[0m data2 \u001b[39m=\u001b[39m [\u001b[39m11\u001b[39m, \u001b[39m12\u001b[39m, \u001b[39m13\u001b[39m, \u001b[39m14\u001b[39m, \u001b[39m15\u001b[39m, \u001b[39m16\u001b[39m, \u001b[39m17\u001b[39m, \u001b[39m18\u001b[39m, \u001b[39m19\u001b[39m, \u001b[39m20\u001b[39m]\n\u001b[0;32m     36\u001b[0m data3 \u001b[39m=\u001b[39m [\u001b[39m21\u001b[39m, \u001b[39m22\u001b[39m, \u001b[39m23\u001b[39m, \u001b[39m24\u001b[39m, \u001b[39m25\u001b[39m, \u001b[39m26\u001b[39m, \u001b[39m27\u001b[39m, \u001b[39m28\u001b[39m, \u001b[39m29\u001b[39m, \u001b[39m30\u001b[39m]\n\u001b[1;32m---> 37\u001b[0m f\u001b[39m=\u001b[39mfunfun()\n\u001b[0;32m     38\u001b[0m results \u001b[39m=\u001b[39m f\u001b[39m.\u001b[39mmy_function(data1\u001b[39m=\u001b[39mdata1, data2\u001b[39m=\u001b[39mdata2, data3\u001b[39m=\u001b[39mdata3)\n\u001b[0;32m     39\u001b[0m \u001b[39mprint\u001b[39m(results)\n",
      "Cell \u001b[1;32mIn[46], line 10\u001b[0m, in \u001b[0;36mdecor.parallelize.<locals>.decorator.<locals>.wrapper\u001b[1;34m(**kwargs)\u001b[0m\n\u001b[0;32m      8\u001b[0m \u001b[39mdef\u001b[39;00m \u001b[39mwrapper\u001b[39m(\u001b[39m*\u001b[39m\u001b[39m*\u001b[39mkwargs):\n\u001b[0;32m      9\u001b[0m     \u001b[39mprint\u001b[39m(kwargs)\n\u001b[1;32m---> 10\u001b[0m     data \u001b[39m=\u001b[39m kwargs[parre_meter]\n\u001b[0;32m     11\u001b[0m     chunk_size \u001b[39m=\u001b[39m \u001b[39mlen\u001b[39m(data) \u001b[39m/\u001b[39m\u001b[39m/\u001b[39m n_jobs\n\u001b[0;32m     12\u001b[0m     chunks\u001b[39m=\u001b[39m[]\n",
      "\u001b[1;31mKeyError\u001b[0m: 'data1'"
     ]
    }
   ],
   "source": [
    "from functools import partial\n",
    "from joblib import Parallel, delayed\n",
    "import numpy as np\n",
    "\n",
    "class decor():\n",
    "    def parallelize(self,n_jobs, parre_meter):\n",
    "        def decorator(func):\n",
    "            def wrapper(**kwargs):\n",
    "                print(kwargs)\n",
    "                data = kwargs[parre_meter]\n",
    "                chunk_size = len(data) // n_jobs\n",
    "                chunks=[]\n",
    "                for i in range(0, len(data), chunk_size):\n",
    "                    sub_kwargs={k:v[i:i+chunk_size] for k,v in kwargs.items() if k==parre_meter}\n",
    "                    sub_kwargs.update({k:v for k,v in kwargs.items() if k!=parre_meter})\n",
    "                    chunks.append(sub_kwargs)\n",
    "                results = Parallel(n_jobs=n_jobs)(delayed(func)(**chunk) for chunk in chunks)\n",
    "                return results\n",
    "            return wrapper\n",
    "        return decorator\n",
    "\n",
    "dc=decor()\n",
    "\n",
    "@dc.parallelize(n_jobs=2, parre_meter='data1')\n",
    "class funfun():\n",
    "    def my_function(self,data1, data2, data3):\n",
    "        result = np.zeros(len(data2))\n",
    "        for i, val in enumerate(data1):\n",
    "            result[i] = np.sum(data2) + np.sum(data3) + val\n",
    "        return result\n",
    "\n",
    "if __name__ == '__main__':\n",
    "    # 假设你有一些数据，可以使用my_function()函数并行处理它们\n",
    "    data1 = [1, 2, 3, 4, 5, 6, 7, 8, 9, 10]\n",
    "    data2 = [11, 12, 13, 14, 15, 16, 17, 18, 19, 20]\n",
    "    data3 = [21, 22, 23, 24, 25, 26, 27, 28, 29, 30]\n",
    "    f=funfun()\n",
    "    results = f.my_function(data1=data1, data2=data2, data3=data3)\n",
    "    print(results)"
   ]
  },
  {
   "cell_type": "code",
   "execution_count": 70,
   "metadata": {},
   "outputs": [
    {
     "name": "stdout",
     "output_type": "stream",
     "text": [
      "[array([411., 412., 413., 414., 415.,   0.,   0.,   0.,   0.,   0.]), array([416., 417., 418., 419., 420.,   0.,   0.,   0.,   0.,   0.])]\n"
     ]
    }
   ],
   "source": [
    "# class decor():\n",
    "#     def parallelize(self,n_jobs, parre_meter):\n",
    "#         def decorator(func):\n",
    "#             def wrapper(*args,**kwargs):\n",
    "#                 self = args[0]\n",
    "#                 print('kwargs:', kwargs)\n",
    "#                 data = kwargs[parre_meter]\n",
    "#                 chunk_size = len(data) // n_jobs\n",
    "#                 chunks=[]\n",
    "#                 for i in range(0, len(data), chunk_size):\n",
    "#                     sub_kwargs={k:v[i:i+chunk_size] for k,v in kwargs.items()}\n",
    "#                     chunks.append(sub_kwargs)\n",
    "#                 print('chunks:', chunks)\n",
    "#                 results = Parallel(n_jobs=n_jobs)(delayed(func)(*args,**chunk) for chunk in chunks)\n",
    "#                 return results\n",
    "#             return wrapper\n",
    "#         return decorator\n",
    "\n",
    "# dc=decor()\n",
    "import pandas as pd\n",
    "import sys\n",
    "sys.path.append('D:/git')\n",
    "import parallelizer.ParrelDecor as parral\n",
    "\n",
    "#实例化parallelizer\n",
    "prl=parral.parallelizer()\n",
    "prl.n_jobs=2\n",
    "\n",
    "class funfun():\n",
    "    @prl.parallelize_df( parrall_meter='data1',axis=0)\n",
    "    def my_function(self,data1, data2, data3):\n",
    "        result = np.zeros(len(data2))\n",
    "        for i, val in enumerate(data1.v.values):\n",
    "            result[i] = np.sum(data2) + np.sum(data3) + val\n",
    "        return result\n",
    "    \n",
    "\n",
    "if __name__ == '__main__':\n",
    "    # 假设你有一些数据，可以使用my_function()函数并行处理它们\n",
    "    data1 = pd.DataFrame({'v':[1, 2, 3, 4, 5, 6, 7, 8, 9, 10]})\n",
    "    data2 = [11, 12, 13, 14, 15, 16, 17, 18, 19, 20]\n",
    "    data3 = [21, 22, 23, 24, 25, 26, 27, 28, 29, 30]\n",
    "    f=funfun()\n",
    "    results = f.my_function(data1=data1, data2=data2, data3=data3)\n",
    "    print(results)"
   ]
  }
 ],
 "metadata": {
  "kernelspec": {
   "display_name": "base",
   "language": "python",
   "name": "python3"
  },
  "language_info": {
   "codemirror_mode": {
    "name": "ipython",
    "version": 3
   },
   "file_extension": ".py",
   "mimetype": "text/x-python",
   "name": "python",
   "nbconvert_exporter": "python",
   "pygments_lexer": "ipython3",
   "version": "3.10.9"
  },
  "orig_nbformat": 4
 },
 "nbformat": 4,
 "nbformat_minor": 2
}
